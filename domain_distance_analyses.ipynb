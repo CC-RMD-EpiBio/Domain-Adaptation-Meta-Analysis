{
 "cells": [
  {
   "cell_type": "code",
   "execution_count": 1,
   "id": "1ae9c6cc",
   "metadata": {},
   "outputs": [],
   "source": [
    "# Domain distance arrays\n",
    "tvo = [0.1739, 0.2027, 0.1629, 0.1884, 0.3129 ]\n",
    "kld = [2.3341, 2.1348, 1.9357, 1.9758, 2.2342]\n",
    "jsd = [0.3896, 0.3692, 0.3412, 0.3832, 0.4403]\n",
    "rd = [2.3125, 2.1151, 1.9176, 1.9633, 2.2239]\n",
    "\n",
    "# Model scores (unsupervised setting)\n",
    "zs = [20.13, 15.74, 25.71, 23.27, 62.95]\n",
    "la = [18.30, 21.69, 28.02, 27.76, 70.31]\n",
    "pl = [22.60, 8.28, 31.52, 18.17, 55.06]\n",
    "pt = [20.70, 19.11, 27.30, 16.57, 61.19]\n",
    "iw = [20.23, 17.91, 24.43, 26.62, 63.08]\n",
    "\n",
    "# Model scores (supervised setting)\n",
    "tg = [88.57, 76.50, 84.75, 87.98]\n",
    "fa = [79.38, 74.78, 75.96, 88.40]\n",
    "la = [85.56, 79.66, 83.31, 87.99]\n",
    "iw = [82.03, 78.35, 84.88, 88.39]"
   ]
  },
  {
   "cell_type": "code",
   "execution_count": 5,
   "id": "c2ac2454",
   "metadata": {},
   "outputs": [],
   "source": [
    "# Compute percentage change in model scores over baseline (zero-shot or max of TG, SC->TG, SC+TG)\n",
    "def perc_change(base, model):\n",
    "    return [((y-x)/float(x)) * 100 for x,y in zip(base, model)]\n",
    "\n",
    "unsup_la = perc_change(zs, la)\n",
    "unsup_pl = perc_change(zs, pl)\n",
    "unsup_pt = perc_change(zs, pt)\n",
    "unsup_iw = perc_change(zs, iw)\n",
    "\n",
    "sup_fa = perc_change(tg, fa)\n",
    "sup_la = perc_change(tg, la)\n",
    "sup_iw = perc_change(tg, iw)"
   ]
  },
  {
   "cell_type": "code",
   "execution_count": 7,
   "id": "aa11252f",
   "metadata": {},
   "outputs": [
    {
     "name": "stdout",
     "output_type": "stream",
     "text": [
      "Correlation for LA\n",
      "Correlation with TVO: 0.8245560726972885\n",
      "Correlation with KLD: 0.5945629261773661\n",
      "Correlation with JSD: 0.45797107883013555\n",
      "Correlation with RD: 0.5948180067993223\n",
      "Correlation for PL\n",
      "Correlation with TVO: -0.3064999943236373\n",
      "Correlation with KLD: -0.019848269226881123\n",
      "Correlation with JSD: -0.21113577824114504\n",
      "Correlation with RD: -0.025833102653059645\n",
      "Correlation for PT\n",
      "Correlation with TVO: -0.04917813651216771\n",
      "Correlation with KLD: 0.2929358118883449\n",
      "Correlation with JSD: -0.2635171629766521\n",
      "Correlation with RD: 0.27632717941324153\n",
      "Correlation for IW\n",
      "Correlation with TVO: 0.8670277237945417\n",
      "Correlation with KLD: 0.5028959416572347\n",
      "Correlation with JSD: 0.3973771770844403\n",
      "Correlation with RD: 0.5030773567997168\n"
     ]
    }
   ],
   "source": [
    "# Unsupervised setting analysis\n",
    "# Compute pearson correlation between each distance metric and model score change\n",
    "from scipy.stats import pearsonr\n",
    "\n",
    "def compute_corr(scores):\n",
    "    tvo_corr, _ = pearsonr(tvo[:len(scores)], scores)\n",
    "    kld_corr, _ = pearsonr(kld[:len(scores)], scores)\n",
    "    jsd_corr, _ = pearsonr(jsd[:len(scores)], scores)\n",
    "    rd_corr, _ = pearsonr(rd[:len(scores)], scores)\n",
    "    print('Correlation with TVO: {}'.format(tvo_corr))\n",
    "    print('Correlation with KLD: {}'.format(kld_corr))\n",
    "    print('Correlation with JSD: {}'.format(jsd_corr))\n",
    "    print('Correlation with RD: {}'.format(rd_corr))\n",
    "\n",
    "print('Correlation for LA')\n",
    "compute_corr(unsup_la)\n",
    "print('Correlation for PL')\n",
    "compute_corr(unsup_pl)\n",
    "print('Correlation for PT')\n",
    "compute_corr(unsup_pt)\n",
    "print('Correlation for IW')\n",
    "compute_corr(unsup_iw)"
   ]
  },
  {
   "cell_type": "code",
   "execution_count": 8,
   "id": "a3ccd3a5",
   "metadata": {},
   "outputs": [
    {
     "name": "stdout",
     "output_type": "stream",
     "text": [
      "Correlation for FA\n",
      "Correlation with TVO: 0.8197696225211281\n",
      "Correlation with KLD: -0.32040789157781613\n",
      "Correlation with JSD: 0.3369453861865519\n",
      "Correlation with RD: -0.31036985333143285\n",
      "Correlation for LA\n",
      "Correlation with TVO: 0.8675749071279878\n",
      "Correlation with KLD: -0.21598626611566804\n",
      "Correlation with JSD: -0.09638305185906468\n",
      "Correlation with RD: -0.2162932856906837\n",
      "Correlation for IW\n",
      "Correlation with TVO: 0.4896655431369238\n",
      "Correlation with KLD: -0.7459629359440898\n",
      "Correlation with JSD: -0.508239680277131\n",
      "Correlation with RD: -0.7470760879452625\n"
     ]
    }
   ],
   "source": [
    "print('Correlation for FA')\n",
    "compute_corr(sup_fa)\n",
    "print('Correlation for LA')\n",
    "compute_corr(sup_la)\n",
    "print('Correlation for IW')\n",
    "compute_corr(sup_iw)"
   ]
  },
  {
   "cell_type": "code",
   "execution_count": null,
   "id": "9eebac7e",
   "metadata": {},
   "outputs": [],
   "source": []
  }
 ],
 "metadata": {
  "kernelspec": {
   "display_name": "Python 3",
   "language": "python",
   "name": "python3"
  },
  "language_info": {
   "codemirror_mode": {
    "name": "ipython",
    "version": 3
   },
   "file_extension": ".py",
   "mimetype": "text/x-python",
   "name": "python",
   "nbconvert_exporter": "python",
   "pygments_lexer": "ipython3",
   "version": "3.6.9"
  }
 },
 "nbformat": 4,
 "nbformat_minor": 5
}
